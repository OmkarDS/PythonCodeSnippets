{
  "nbformat": 4,
  "nbformat_minor": 0,
  "metadata": {
    "colab": {
      "name": "numpy_1",
      "provenance": [],
      "collapsed_sections": []
    },
    "kernelspec": {
      "name": "python3",
      "display_name": "Python 3"
    },
    "language_info": {
      "name": "python"
    }
  },
  "cells": [
    {
      "cell_type": "code",
      "execution_count": 1,
      "metadata": {
        "id": "ipQqIEeWBcak"
      },
      "outputs": [],
      "source": [
        "import numpy as np"
      ]
    },
    {
      "cell_type": "markdown",
      "source": [
        "### Data type and memory"
      ],
      "metadata": {
        "id": "agYvfeUCKU_f"
      }
    },
    {
      "cell_type": "code",
      "source": [
        "a = np.array([1,2,3], dtype='int32')\n",
        "b = np.array([1,2,3], dtype='float')"
      ],
      "metadata": {
        "id": "yUQcC5V-IcwV"
      },
      "execution_count": 9,
      "outputs": []
    },
    {
      "cell_type": "code",
      "source": [
        "a.dtype"
      ],
      "metadata": {
        "colab": {
          "base_uri": "https://localhost:8080/"
        },
        "id": "90nqbWKsJpwp",
        "outputId": "6f3e4f1c-8ac1-4702-8323-94076452b5a8"
      },
      "execution_count": 10,
      "outputs": [
        {
          "output_type": "execute_result",
          "data": {
            "text/plain": [
              "dtype('int32')"
            ]
          },
          "metadata": {},
          "execution_count": 10
        }
      ]
    },
    {
      "cell_type": "code",
      "source": [
        "b.dtype"
      ],
      "metadata": {
        "colab": {
          "base_uri": "https://localhost:8080/"
        },
        "id": "VR4yRND8J5oi",
        "outputId": "c23d675e-880a-421e-a277-5fe09502637b"
      },
      "execution_count": 11,
      "outputs": [
        {
          "output_type": "execute_result",
          "data": {
            "text/plain": [
              "dtype('float64')"
            ]
          },
          "metadata": {},
          "execution_count": 11
        }
      ]
    },
    {
      "cell_type": "code",
      "source": [
        "a.nbytes"
      ],
      "metadata": {
        "colab": {
          "base_uri": "https://localhost:8080/"
        },
        "id": "zGzRUlX0J6f5",
        "outputId": "9388de7f-4938-41c5-8260-e42d7a5232c6"
      },
      "execution_count": 12,
      "outputs": [
        {
          "output_type": "execute_result",
          "data": {
            "text/plain": [
              "12"
            ]
          },
          "metadata": {},
          "execution_count": 12
        }
      ]
    },
    {
      "cell_type": "code",
      "source": [
        "b.nbytes"
      ],
      "metadata": {
        "colab": {
          "base_uri": "https://localhost:8080/"
        },
        "id": "HlkGj2UNJ8Gp",
        "outputId": "e1cf4738-b3e5-4b74-9b3d-32ccad78f2f9"
      },
      "execution_count": 13,
      "outputs": [
        {
          "output_type": "execute_result",
          "data": {
            "text/plain": [
              "24"
            ]
          },
          "metadata": {},
          "execution_count": 13
        }
      ]
    },
    {
      "cell_type": "code",
      "source": [
        "a.itemsize"
      ],
      "metadata": {
        "colab": {
          "base_uri": "https://localhost:8080/"
        },
        "id": "NCElSxMpJ-lz",
        "outputId": "1c88835e-35a9-4944-f7cf-fc8bb537acac"
      },
      "execution_count": 16,
      "outputs": [
        {
          "output_type": "execute_result",
          "data": {
            "text/plain": [
              "4"
            ]
          },
          "metadata": {},
          "execution_count": 16
        }
      ]
    },
    {
      "cell_type": "code",
      "source": [
        "b.itemsize"
      ],
      "metadata": {
        "colab": {
          "base_uri": "https://localhost:8080/"
        },
        "id": "qJRYpXyBKNRS",
        "outputId": "b48b5e09-9c6f-4cd6-fca8-919694c5bb4d"
      },
      "execution_count": 17,
      "outputs": [
        {
          "output_type": "execute_result",
          "data": {
            "text/plain": [
              "8"
            ]
          },
          "metadata": {},
          "execution_count": 17
        }
      ]
    },
    {
      "cell_type": "markdown",
      "source": [
        "### Indexing"
      ],
      "metadata": {
        "id": "Ck3vJkHdKXev"
      }
    },
    {
      "cell_type": "code",
      "source": [
        "a = np.arange(1,28).reshape(3,3,3)\n",
        "b = np.arange(1,17).reshape(2,8)"
      ],
      "metadata": {
        "id": "8kRTMvT5KR8h"
      },
      "execution_count": 33,
      "outputs": []
    },
    {
      "cell_type": "code",
      "source": [
        "a"
      ],
      "metadata": {
        "colab": {
          "base_uri": "https://localhost:8080/"
        },
        "id": "fIHY7mMmMjH6",
        "outputId": "258d4ce4-a664-4f05-8eb8-e8cc591b13bd"
      },
      "execution_count": 34,
      "outputs": [
        {
          "output_type": "execute_result",
          "data": {
            "text/plain": [
              "array([[[ 1,  2,  3],\n",
              "        [ 4,  5,  6],\n",
              "        [ 7,  8,  9]],\n",
              "\n",
              "       [[10, 11, 12],\n",
              "        [13, 14, 15],\n",
              "        [16, 17, 18]],\n",
              "\n",
              "       [[19, 20, 21],\n",
              "        [22, 23, 24],\n",
              "        [25, 26, 27]]])"
            ]
          },
          "metadata": {},
          "execution_count": 34
        }
      ]
    },
    {
      "cell_type": "code",
      "source": [
        "b"
      ],
      "metadata": {
        "colab": {
          "base_uri": "https://localhost:8080/"
        },
        "id": "S5AeCZZrNVxF",
        "outputId": "38544737-28ad-48ef-d248-aae7e4d45b67"
      },
      "execution_count": 35,
      "outputs": [
        {
          "output_type": "execute_result",
          "data": {
            "text/plain": [
              "array([[ 1,  2,  3,  4,  5,  6,  7,  8],\n",
              "       [ 9, 10, 11, 12, 13, 14, 15, 16]])"
            ]
          },
          "metadata": {},
          "execution_count": 35
        }
      ]
    },
    {
      "cell_type": "code",
      "source": [
        "# get specific element 3D: a[matrix,row,column] or a[matrix][row][column]\n",
        "print(a[0,2,1])\n",
        "print(a[0][2][1])"
      ],
      "metadata": {
        "colab": {
          "base_uri": "https://localhost:8080/"
        },
        "id": "5wCugEGgMlDA",
        "outputId": "0015208b-bfaf-4f24-8120-564ca1de8ded"
      },
      "execution_count": 36,
      "outputs": [
        {
          "output_type": "stream",
          "name": "stdout",
          "text": [
            "8\n",
            "8\n"
          ]
        }
      ]
    },
    {
      "cell_type": "code",
      "source": [
        "# get specific element 2D: b[row,column] or b[row][column]\n",
        "print(b[1,6])\n",
        "print(b[1][6])"
      ],
      "metadata": {
        "colab": {
          "base_uri": "https://localhost:8080/"
        },
        "id": "b7gDUmaBMm1g",
        "outputId": "ec354490-c254-4120-a4da-1eff53a584e4"
      },
      "execution_count": 37,
      "outputs": [
        {
          "output_type": "stream",
          "name": "stdout",
          "text": [
            "15\n",
            "15\n"
          ]
        }
      ]
    },
    {
      "cell_type": "code",
      "source": [
        "# get entire row 2D : b[1,:] or b[1]\n",
        "print(b[1,:])\n",
        "print(b[1])"
      ],
      "metadata": {
        "colab": {
          "base_uri": "https://localhost:8080/"
        },
        "id": "bTcJdGgPNqLR",
        "outputId": "2bc077e1-dcb1-4ea0-e0ad-5cf7653f36d3"
      },
      "execution_count": 38,
      "outputs": [
        {
          "output_type": "stream",
          "name": "stdout",
          "text": [
            "[ 9 10 11 12 13 14 15 16]\n",
            "[ 9 10 11 12 13 14 15 16]\n"
          ]
        }
      ]
    },
    {
      "cell_type": "code",
      "source": [
        "# get entire column 2D : b[:,2]\n",
        "print(b[:,2])"
      ],
      "metadata": {
        "colab": {
          "base_uri": "https://localhost:8080/"
        },
        "id": "CViZIIJUN8qP",
        "outputId": "958ff7c3-2233-48a5-e960-ca512541d185"
      },
      "execution_count": 39,
      "outputs": [
        {
          "output_type": "stream",
          "name": "stdout",
          "text": [
            "[ 3 11]\n"
          ]
        }
      ]
    },
    {
      "cell_type": "code",
      "source": [
        "# get diagonal elements all 2d arrays\n",
        "np.diagonal(a, axis1 = 1, axis2 = 2)"
      ],
      "metadata": {
        "colab": {
          "base_uri": "https://localhost:8080/"
        },
        "id": "JxHtuqMmOGze",
        "outputId": "b5fb309b-d725-4966-8019-6dc11e08b1e4"
      },
      "execution_count": 45,
      "outputs": [
        {
          "output_type": "execute_result",
          "data": {
            "text/plain": [
              "array([[ 1,  5,  9],\n",
              "       [10, 14, 18],\n",
              "       [19, 23, 27]])"
            ]
          },
          "metadata": {},
          "execution_count": 45
        }
      ]
    },
    {
      "cell_type": "code",
      "source": [
        "# get middle elements of all 2d\n",
        "a[:,1,1]"
      ],
      "metadata": {
        "colab": {
          "base_uri": "https://localhost:8080/"
        },
        "id": "xGD08SopPTzX",
        "outputId": "b5231d2e-0997-410e-c3ea-79e6eefe1d05"
      },
      "execution_count": 46,
      "outputs": [
        {
          "output_type": "execute_result",
          "data": {
            "text/plain": [
              "array([ 5, 14, 23])"
            ]
          },
          "metadata": {},
          "execution_count": 46
        }
      ]
    },
    {
      "cell_type": "markdown",
      "source": [
        "### Initializing arrays"
      ],
      "metadata": {
        "id": "RvPo26bZQTEu"
      }
    },
    {
      "cell_type": "code",
      "source": [
        "# all zeros\n",
        "np.zeros(shape=(2,3))"
      ],
      "metadata": {
        "colab": {
          "base_uri": "https://localhost:8080/"
        },
        "id": "sQM8xEz0QQlh",
        "outputId": "f44c302a-4a5e-45e6-f1f0-5b499362637a"
      },
      "execution_count": 47,
      "outputs": [
        {
          "output_type": "execute_result",
          "data": {
            "text/plain": [
              "array([[0., 0., 0.],\n",
              "       [0., 0., 0.]])"
            ]
          },
          "metadata": {},
          "execution_count": 47
        }
      ]
    },
    {
      "cell_type": "code",
      "source": [
        "# all 1s\n",
        "np.ones(shape=(2,3))"
      ],
      "metadata": {
        "colab": {
          "base_uri": "https://localhost:8080/"
        },
        "id": "LzIVuCSlQ21Y",
        "outputId": "313a6667-f3c6-4d80-c35d-717d1b949d14"
      },
      "execution_count": 48,
      "outputs": [
        {
          "output_type": "execute_result",
          "data": {
            "text/plain": [
              "array([[1., 1., 1.],\n",
              "       [1., 1., 1.]])"
            ]
          },
          "metadata": {},
          "execution_count": 48
        }
      ]
    },
    {
      "cell_type": "code",
      "source": [
        "# any other value\n",
        "np.full(shape=(2,3), fill_value=9)"
      ],
      "metadata": {
        "colab": {
          "base_uri": "https://localhost:8080/"
        },
        "id": "mN0h33bnQ75B",
        "outputId": "2be47acf-0f94-4b7a-e830-e33e095ad44a"
      },
      "execution_count": 51,
      "outputs": [
        {
          "output_type": "execute_result",
          "data": {
            "text/plain": [
              "array([[9, 9, 9],\n",
              "       [9, 9, 9]])"
            ]
          },
          "metadata": {},
          "execution_count": 51
        }
      ]
    },
    {
      "cell_type": "code",
      "source": [
        "# using shape of existing array\n",
        "np.full_like(a=b, fill_value=99)"
      ],
      "metadata": {
        "colab": {
          "base_uri": "https://localhost:8080/"
        },
        "id": "LC82s6F0RL6Y",
        "outputId": "50d852ff-c757-490c-fb97-95886722eeba"
      },
      "execution_count": 53,
      "outputs": [
        {
          "output_type": "execute_result",
          "data": {
            "text/plain": [
              "array([[99, 99, 99, 99, 99, 99, 99, 99],\n",
              "       [99, 99, 99, 99, 99, 99, 99, 99]])"
            ]
          },
          "metadata": {},
          "execution_count": 53
        }
      ]
    },
    {
      "cell_type": "code",
      "source": [
        "# random decimal numbers\n",
        "np.random.rand(2,3)"
      ],
      "metadata": {
        "colab": {
          "base_uri": "https://localhost:8080/"
        },
        "id": "uouwqMKBR0GP",
        "outputId": "48558767-7ee0-4e6d-81cf-cffb8336cc27"
      },
      "execution_count": 54,
      "outputs": [
        {
          "output_type": "execute_result",
          "data": {
            "text/plain": [
              "array([[0.01477741, 0.19073741, 0.66158442],\n",
              "       [0.18652025, 0.95835699, 0.74318892]])"
            ]
          },
          "metadata": {},
          "execution_count": 54
        }
      ]
    },
    {
      "cell_type": "code",
      "source": [
        "np.random.random_sample(size=(2,3))"
      ],
      "metadata": {
        "colab": {
          "base_uri": "https://localhost:8080/"
        },
        "id": "5MoDkn0mSh45",
        "outputId": "6c7a02e3-e573-4a79-f6ec-2b2b2bb182ae"
      },
      "execution_count": 57,
      "outputs": [
        {
          "output_type": "execute_result",
          "data": {
            "text/plain": [
              "array([[0.66230159, 0.60172247, 0.28035228],\n",
              "       [0.05537939, 0.9523167 , 0.45221402]])"
            ]
          },
          "metadata": {},
          "execution_count": 57
        }
      ]
    },
    {
      "cell_type": "code",
      "source": [
        "# random integer numbers\n",
        "np.random.randint(low=5, high=10, size=(2,3))"
      ],
      "metadata": {
        "colab": {
          "base_uri": "https://localhost:8080/"
        },
        "id": "ZITaz34iSPqn",
        "outputId": "1d6b4e34-53f6-49bb-f211-b7e402d82d0f"
      },
      "execution_count": 59,
      "outputs": [
        {
          "output_type": "execute_result",
          "data": {
            "text/plain": [
              "array([[6, 6, 5],\n",
              "       [6, 6, 7]])"
            ]
          },
          "metadata": {},
          "execution_count": 59
        }
      ]
    },
    {
      "cell_type": "code",
      "source": [
        "# identity matrix\n",
        "np.identity(n=3)"
      ],
      "metadata": {
        "colab": {
          "base_uri": "https://localhost:8080/"
        },
        "id": "cObNrXxCSS7n",
        "outputId": "9e1aa902-ccab-4813-c9ec-6db6e5cd78c1"
      },
      "execution_count": 60,
      "outputs": [
        {
          "output_type": "execute_result",
          "data": {
            "text/plain": [
              "array([[1., 0., 0.],\n",
              "       [0., 1., 0.],\n",
              "       [0., 0., 1.]])"
            ]
          },
          "metadata": {},
          "execution_count": 60
        }
      ]
    },
    {
      "cell_type": "code",
      "source": [
        "# repeat existing array\n",
        "arr = np.array([[1,6,9]])\n",
        "print(arr)\n",
        "np.repeat(a=arr, repeats=3, axis=0)"
      ],
      "metadata": {
        "colab": {
          "base_uri": "https://localhost:8080/"
        },
        "id": "hL6u05MpUBna",
        "outputId": "fec1a896-9c90-4c3f-8f1a-b36f79d9eab2"
      },
      "execution_count": 63,
      "outputs": [
        {
          "output_type": "stream",
          "name": "stdout",
          "text": [
            "[[1 6 9]]\n"
          ]
        },
        {
          "output_type": "execute_result",
          "data": {
            "text/plain": [
              "array([[1, 6, 9],\n",
              "       [1, 6, 9],\n",
              "       [1, 6, 9]])"
            ]
          },
          "metadata": {},
          "execution_count": 63
        }
      ]
    },
    {
      "cell_type": "code",
      "source": [
        "# some fancy stuff\n",
        "\n",
        "output = np.ones(shape=(5,5))\n",
        "print(output)\n",
        "\n",
        "zeros = np.zeros(shape=(3,3))\n",
        "zeros[1,1] = 9\n",
        "\n",
        "output[1:-1, 1:-1] = zeros\n",
        "\n",
        "print()\n",
        "print(output)"
      ],
      "metadata": {
        "colab": {
          "base_uri": "https://localhost:8080/"
        },
        "id": "dzlSzzVXUqbH",
        "outputId": "bc12f658-da9c-42de-aa33-3edc0507165d"
      },
      "execution_count": 76,
      "outputs": [
        {
          "output_type": "stream",
          "name": "stdout",
          "text": [
            "[[1. 1. 1. 1. 1.]\n",
            " [1. 1. 1. 1. 1.]\n",
            " [1. 1. 1. 1. 1.]\n",
            " [1. 1. 1. 1. 1.]\n",
            " [1. 1. 1. 1. 1.]]\n",
            "\n",
            "[[1. 1. 1. 1. 1.]\n",
            " [1. 0. 0. 0. 1.]\n",
            " [1. 0. 9. 0. 1.]\n",
            " [1. 0. 0. 0. 1.]\n",
            " [1. 1. 1. 1. 1.]]\n"
          ]
        }
      ]
    },
    {
      "cell_type": "markdown",
      "source": [
        "### Copy !!!"
      ],
      "metadata": {
        "id": "-MCV3UUpZGnV"
      }
    },
    {
      "cell_type": "code",
      "source": [
        "a = np.array([1,2,3])\n",
        "b = a #wrong\n",
        "b = a.copy() #right"
      ],
      "metadata": {
        "id": "ijogMAAaV4uv"
      },
      "execution_count": 77,
      "outputs": []
    },
    {
      "cell_type": "markdown",
      "source": [
        "### Arithmetic Operations"
      ],
      "metadata": {
        "id": "T2dryRcAZxsW"
      }
    },
    {
      "cell_type": "code",
      "source": [
        "a = np.array([2,4,6,8])\n",
        "print(a+1)\n",
        "print(a-1)\n",
        "print(a*2)\n",
        "print(a/2)"
      ],
      "metadata": {
        "colab": {
          "base_uri": "https://localhost:8080/"
        },
        "id": "6Fd-prsgZRV3",
        "outputId": "7b14a895-1049-4a05-90f4-2fdc84a9d959"
      },
      "execution_count": 78,
      "outputs": [
        {
          "output_type": "stream",
          "name": "stdout",
          "text": [
            "[3 5 7 9]\n",
            "[1 3 5 7]\n",
            "[ 4  8 12 16]\n",
            "[1. 2. 3. 4.]\n"
          ]
        }
      ]
    },
    {
      "cell_type": "code",
      "source": [
        "print(np.sin(a))\n",
        "print(np.cos(a))"
      ],
      "metadata": {
        "colab": {
          "base_uri": "https://localhost:8080/"
        },
        "id": "nmrk4mfXZ-vO",
        "outputId": "d097a788-b4c9-4b77-f20f-10f8b45354fb"
      },
      "execution_count": 80,
      "outputs": [
        {
          "output_type": "stream",
          "name": "stdout",
          "text": [
            "[ 0.90929743 -0.7568025  -0.2794155   0.98935825]\n",
            "[-0.41614684 -0.65364362  0.96017029 -0.14550003]\n"
          ]
        }
      ]
    },
    {
      "cell_type": "code",
      "source": [
        "# sum\n",
        "print(a.sum())\n",
        "\n",
        "#mean\n",
        "print(a.mean())"
      ],
      "metadata": {
        "colab": {
          "base_uri": "https://localhost:8080/"
        },
        "id": "xjEr0iBaaCuu",
        "outputId": "39f02382-4711-41b9-a7f6-da0afe8357f0"
      },
      "execution_count": 83,
      "outputs": [
        {
          "output_type": "stream",
          "name": "stdout",
          "text": [
            "20\n",
            "5.0\n"
          ]
        }
      ]
    },
    {
      "cell_type": "markdown",
      "source": [
        "### Linear algebra & Stats"
      ],
      "metadata": {
        "id": "bZHfdpJbcISl"
      }
    },
    {
      "cell_type": "code",
      "source": [
        "# matrix multiplication\n",
        "\n",
        "a = np.ones(shape=(2,3))\n",
        "print(a)\n",
        "\n",
        "b = np.full(shape=(3,2), fill_value=3)\n",
        "print(b)\n",
        "\n",
        "np.matmul(a,b)"
      ],
      "metadata": {
        "colab": {
          "base_uri": "https://localhost:8080/"
        },
        "id": "A7bCna-qaI5m",
        "outputId": "69619841-613d-44be-e864-a141807666c5"
      },
      "execution_count": 84,
      "outputs": [
        {
          "output_type": "stream",
          "name": "stdout",
          "text": [
            "[[1. 1. 1.]\n",
            " [1. 1. 1.]]\n",
            "[[3 3]\n",
            " [3 3]\n",
            " [3 3]]\n"
          ]
        },
        {
          "output_type": "execute_result",
          "data": {
            "text/plain": [
              "array([[9., 9.],\n",
              "       [9., 9.]])"
            ]
          },
          "metadata": {},
          "execution_count": 84
        }
      ]
    },
    {
      "cell_type": "code",
      "source": [
        "a = np.array([[1,2,3], [4,5,6]])\n",
        "a"
      ],
      "metadata": {
        "colab": {
          "base_uri": "https://localhost:8080/"
        },
        "id": "fSwSQqPacYYd",
        "outputId": "3955f35f-5e01-402e-985e-6bafe2e0d783"
      },
      "execution_count": 86,
      "outputs": [
        {
          "output_type": "execute_result",
          "data": {
            "text/plain": [
              "array([[1, 2, 3],\n",
              "       [4, 5, 6]])"
            ]
          },
          "metadata": {},
          "execution_count": 86
        }
      ]
    },
    {
      "cell_type": "code",
      "source": [
        "print(np.min(a, axis=None))\n",
        "print(np.min(a, axis=1)) # i.e consider all columns for a single row at a time\n",
        "print(np.min(a, axis=0)) # i.e. consider all rows for a single column at a time"
      ],
      "metadata": {
        "colab": {
          "base_uri": "https://localhost:8080/"
        },
        "id": "8_r6MTuldbQ-",
        "outputId": "3eaf6ebf-f9d0-42cc-e6de-d0dfb5ce77f1"
      },
      "execution_count": 89,
      "outputs": [
        {
          "output_type": "stream",
          "name": "stdout",
          "text": [
            "1\n",
            "[1 4]\n",
            "[1 2 3]\n"
          ]
        }
      ]
    },
    {
      "cell_type": "markdown",
      "source": [
        "### Reshape"
      ],
      "metadata": {
        "id": "AVRO3ZFVeU6G"
      }
    },
    {
      "cell_type": "code",
      "source": [
        "a = np.arange(1,10)\n",
        "a"
      ],
      "metadata": {
        "colab": {
          "base_uri": "https://localhost:8080/"
        },
        "id": "ZtUl5Kh8df_l",
        "outputId": "269d3263-e46d-4569-bb66-7efcf85537f0"
      },
      "execution_count": 92,
      "outputs": [
        {
          "output_type": "execute_result",
          "data": {
            "text/plain": [
              "array([1, 2, 3, 4, 5, 6, 7, 8, 9])"
            ]
          },
          "metadata": {},
          "execution_count": 92
        }
      ]
    },
    {
      "cell_type": "code",
      "source": [
        "# .reshape takes a tuple as an argument. Hence .reshape( (rows,columns) )\n",
        "print(a.reshape((3,3)))\n",
        "print(a.reshape((3,-1))) # passing -1 asks numpy to figure out the dimension based on number of elements"
      ],
      "metadata": {
        "colab": {
          "base_uri": "https://localhost:8080/"
        },
        "id": "DyoE2vlGeXQv",
        "outputId": "24ad4516-4faa-4d67-e16b-e0f107cb833e"
      },
      "execution_count": 94,
      "outputs": [
        {
          "output_type": "stream",
          "name": "stdout",
          "text": [
            "[[1 2 3]\n",
            " [4 5 6]\n",
            " [7 8 9]]\n",
            "[[1 2 3]\n",
            " [4 5 6]\n",
            " [7 8 9]]\n"
          ]
        }
      ]
    },
    {
      "cell_type": "markdown",
      "source": [
        "### Stacking"
      ],
      "metadata": {
        "id": "UwK7EkIOkSdz"
      }
    },
    {
      "cell_type": "code",
      "source": [
        "a = np.arange(6).reshape(2,-1)\n",
        "b = np.arange(6,12).reshape(2,-1)\n",
        "print(a)\n",
        "print(b)"
      ],
      "metadata": {
        "colab": {
          "base_uri": "https://localhost:8080/"
        },
        "id": "aWTaF7LueraV",
        "outputId": "0df12038-dd41-4778-e98b-b5c714eccad6"
      },
      "execution_count": 109,
      "outputs": [
        {
          "output_type": "stream",
          "name": "stdout",
          "text": [
            "[[0 1 2]\n",
            " [3 4 5]]\n",
            "[[ 6  7  8]\n",
            " [ 9 10 11]]\n"
          ]
        }
      ]
    },
    {
      "cell_type": "code",
      "source": [
        "np.vstack([a,b])"
      ],
      "metadata": {
        "colab": {
          "base_uri": "https://localhost:8080/"
        },
        "id": "vazo7t_BkdVN",
        "outputId": "44438e07-dcd3-4a19-d26e-1132d160a882"
      },
      "execution_count": 110,
      "outputs": [
        {
          "output_type": "execute_result",
          "data": {
            "text/plain": [
              "array([[ 0,  1,  2],\n",
              "       [ 3,  4,  5],\n",
              "       [ 6,  7,  8],\n",
              "       [ 9, 10, 11]])"
            ]
          },
          "metadata": {},
          "execution_count": 110
        }
      ]
    },
    {
      "cell_type": "code",
      "source": [
        "np.hstack((a,b))"
      ],
      "metadata": {
        "colab": {
          "base_uri": "https://localhost:8080/"
        },
        "id": "49xQcYCEknm-",
        "outputId": "5d228800-c40a-4235-c76b-f2694f74d401"
      },
      "execution_count": 111,
      "outputs": [
        {
          "output_type": "execute_result",
          "data": {
            "text/plain": [
              "array([[ 0,  1,  2,  6,  7,  8],\n",
              "       [ 3,  4,  5,  9, 10, 11]])"
            ]
          },
          "metadata": {},
          "execution_count": 111
        }
      ]
    },
    {
      "cell_type": "markdown",
      "source": [
        "### Load from file"
      ],
      "metadata": {
        "id": "5a1NG-vXrMud"
      }
    },
    {
      "cell_type": "code",
      "source": [
        "# np.genfromtxt(filename, delimiter=',')"
      ],
      "metadata": {
        "id": "DNu9HfQFkpgk"
      },
      "execution_count": null,
      "outputs": []
    },
    {
      "cell_type": "markdown",
      "source": [
        "### Masking"
      ],
      "metadata": {
        "id": "9_-eBHsnrVWb"
      }
    },
    {
      "cell_type": "code",
      "source": [
        "a = np.random.randint(1,100, size=(4,10))\n",
        "a"
      ],
      "metadata": {
        "colab": {
          "base_uri": "https://localhost:8080/"
        },
        "id": "6xh6nwWqrX9w",
        "outputId": "5d414fad-7bc8-4ccd-a4c3-d7540f7f62ea"
      },
      "execution_count": 116,
      "outputs": [
        {
          "output_type": "execute_result",
          "data": {
            "text/plain": [
              "array([[68, 36,  8, 71, 46, 59, 31, 57, 51, 82],\n",
              "       [41, 90, 61, 96, 23, 48,  6, 92, 33, 76],\n",
              "       [38, 25, 51, 20, 64, 81, 84, 49,  6, 69],\n",
              "       [25,  1, 74, 13, 61, 51, 22, 73, 48, 95]])"
            ]
          },
          "metadata": {},
          "execution_count": 116
        }
      ]
    },
    {
      "cell_type": "code",
      "source": [
        "# even numbers mask\n",
        "mask = a%2==0\n",
        "print(mask)\n",
        "print(a[mask])"
      ],
      "metadata": {
        "colab": {
          "base_uri": "https://localhost:8080/"
        },
        "id": "aP5nkWPIrhfb",
        "outputId": "05fd4532-272d-4ff9-f94e-9f956ad129b3"
      },
      "execution_count": 133,
      "outputs": [
        {
          "output_type": "stream",
          "name": "stdout",
          "text": [
            "[[ True  True  True False  True False False False False  True]\n",
            " [False  True False  True False  True  True  True False  True]\n",
            " [ True False False  True  True False  True False  True False]\n",
            " [False False  True False False False  True False  True False]]\n",
            "[68 36  8 46 82 90 96 48  6 92 76 38 20 64 84  6 74 22 48]\n"
          ]
        }
      ]
    },
    {
      "cell_type": "code",
      "source": [
        "# np.any()\n",
        "print(np.any(a<5, axis=0))\n",
        "print(np.any(a<5, axis=1))"
      ],
      "metadata": {
        "colab": {
          "base_uri": "https://localhost:8080/"
        },
        "id": "U125PO7Nrle0",
        "outputId": "bca918d9-6d50-4383-c777-5d03f6642e8e"
      },
      "execution_count": 124,
      "outputs": [
        {
          "output_type": "stream",
          "name": "stdout",
          "text": [
            "[False  True False False False False False False False False]\n",
            "[False False False  True]\n"
          ]
        }
      ]
    },
    {
      "cell_type": "code",
      "source": [
        "# np.all()\n",
        "print(np.all(a>6, axis=0))\n",
        "print(np.all(a>6, axis=1))"
      ],
      "metadata": {
        "colab": {
          "base_uri": "https://localhost:8080/"
        },
        "id": "s8JYaex9ssNE",
        "outputId": "3eb1d0ce-b736-4146-e851-0734f9c3a38f"
      },
      "execution_count": 127,
      "outputs": [
        {
          "output_type": "stream",
          "name": "stdout",
          "text": [
            "[ True False  True  True  True  True False  True False  True]\n",
            "[ True False False False]\n"
          ]
        }
      ]
    },
    {
      "cell_type": "markdown",
      "source": [
        "### Multiple masks"
      ],
      "metadata": {
        "id": "q8wk6QhyuL4h"
      }
    },
    {
      "cell_type": "code",
      "source": [
        "a"
      ],
      "metadata": {
        "colab": {
          "base_uri": "https://localhost:8080/"
        },
        "id": "qMwNFrFLtnwQ",
        "outputId": "50fa8678-cf56-4458-a871-2288fbfdc70b"
      },
      "execution_count": 128,
      "outputs": [
        {
          "output_type": "execute_result",
          "data": {
            "text/plain": [
              "array([[68, 36,  8, 71, 46, 59, 31, 57, 51, 82],\n",
              "       [41, 90, 61, 96, 23, 48,  6, 92, 33, 76],\n",
              "       [38, 25, 51, 20, 64, 81, 84, 49,  6, 69],\n",
              "       [25,  1, 74, 13, 61, 51, 22, 73, 48, 95]])"
            ]
          },
          "metadata": {},
          "execution_count": 128
        }
      ]
    },
    {
      "cell_type": "code",
      "source": [
        "mask = ((a>20) & (a<50))\n",
        "print(mask)"
      ],
      "metadata": {
        "colab": {
          "base_uri": "https://localhost:8080/"
        },
        "id": "ncmJDItBuOJK",
        "outputId": "57bcda1c-581c-44f4-83ec-2b07d24cd976"
      },
      "execution_count": 136,
      "outputs": [
        {
          "output_type": "stream",
          "name": "stdout",
          "text": [
            "[[False  True False False  True False  True False False False]\n",
            " [ True False False False  True  True False False  True False]\n",
            " [ True  True False False False False False  True False False]\n",
            " [ True False False False False False  True False  True False]]\n"
          ]
        }
      ]
    },
    {
      "cell_type": "code",
      "source": [
        "negative_mask = ~mask\n",
        "print(negative_mask)"
      ],
      "metadata": {
        "colab": {
          "base_uri": "https://localhost:8080/"
        },
        "id": "EENVCI_OuWOS",
        "outputId": "fad5cd89-ae74-4719-caad-28e6a7446e3b"
      },
      "execution_count": 137,
      "outputs": [
        {
          "output_type": "stream",
          "name": "stdout",
          "text": [
            "[[ True False  True  True False  True False  True  True  True]\n",
            " [False  True  True  True False False  True  True False  True]\n",
            " [False False  True  True  True  True  True False  True  True]\n",
            " [False  True  True  True  True  True False  True False  True]]\n"
          ]
        }
      ]
    },
    {
      "cell_type": "code",
      "source": [
        "a = np.arange(1,31).reshape(6,5)\n",
        "a"
      ],
      "metadata": {
        "colab": {
          "base_uri": "https://localhost:8080/"
        },
        "id": "zRlpfkpIuxkK",
        "outputId": "8ba8df64-b989-40e0-a952-eaa090cc4ea3"
      },
      "execution_count": 138,
      "outputs": [
        {
          "output_type": "execute_result",
          "data": {
            "text/plain": [
              "array([[ 1,  2,  3,  4,  5],\n",
              "       [ 6,  7,  8,  9, 10],\n",
              "       [11, 12, 13, 14, 15],\n",
              "       [16, 17, 18, 19, 20],\n",
              "       [21, 22, 23, 24, 25],\n",
              "       [26, 27, 28, 29, 30]])"
            ]
          },
          "metadata": {},
          "execution_count": 138
        }
      ]
    },
    {
      "cell_type": "code",
      "source": [
        "a[2:4,0:2]"
      ],
      "metadata": {
        "colab": {
          "base_uri": "https://localhost:8080/"
        },
        "id": "DWL0qWGivR-y",
        "outputId": "809edb1b-8429-43a6-db29-3149994b8cd8"
      },
      "execution_count": 139,
      "outputs": [
        {
          "output_type": "execute_result",
          "data": {
            "text/plain": [
              "array([[11, 12],\n",
              "       [16, 17]])"
            ]
          },
          "metadata": {},
          "execution_count": 139
        }
      ]
    },
    {
      "cell_type": "code",
      "source": [
        "# get 2,8,14,20\n",
        "a[ [0,1,2,3], [1,2,3,4]]"
      ],
      "metadata": {
        "colab": {
          "base_uri": "https://localhost:8080/"
        },
        "id": "Zi_wpB1WvXUS",
        "outputId": "e2675870-8cb8-4747-d423-92380e9eaa01"
      },
      "execution_count": 140,
      "outputs": [
        {
          "output_type": "execute_result",
          "data": {
            "text/plain": [
              "array([ 2,  8, 14, 20])"
            ]
          },
          "metadata": {},
          "execution_count": 140
        }
      ]
    },
    {
      "cell_type": "code",
      "source": [
        "# get 4,5 24,25 29,30\n",
        "# i.e. specific rows and continuos specific columns\n",
        "a[ [0,4,5], 3:]"
      ],
      "metadata": {
        "colab": {
          "base_uri": "https://localhost:8080/"
        },
        "id": "UGyp2_Vnv1EL",
        "outputId": "81db8fe5-400d-4fb6-90f2-555afd004e54"
      },
      "execution_count": 151,
      "outputs": [
        {
          "output_type": "execute_result",
          "data": {
            "text/plain": [
              "array([[ 4,  5],\n",
              "       [24, 25],\n",
              "       [29, 30]])"
            ]
          },
          "metadata": {},
          "execution_count": 151
        }
      ]
    },
    {
      "cell_type": "code",
      "source": [
        ""
      ],
      "metadata": {
        "id": "m_dJlbNWwMiq"
      },
      "execution_count": 151,
      "outputs": []
    }
  ]
}