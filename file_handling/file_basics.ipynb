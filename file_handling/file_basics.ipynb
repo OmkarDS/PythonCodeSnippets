{
 "cells": [
  {
   "cell_type": "markdown",
   "metadata": {},
   "source": [
    "### Reading file"
   ]
  },
  {
   "cell_type": "code",
   "execution_count": 1,
   "metadata": {},
   "outputs": [],
   "source": [
    "filename = \"F:/Python Code Snippets - Git/file_handling/test.txt\""
   ]
  },
  {
   "cell_type": "code",
   "execution_count": 2,
   "metadata": {},
   "outputs": [],
   "source": [
    "# not recommended way of handling files\n",
    "f = open(file=filename, mode='r')"
   ]
  },
  {
   "cell_type": "code",
   "execution_count": 37,
   "metadata": {},
   "outputs": [],
   "source": [
    "# modes of working with file\n",
    "# r : read the file\n",
    "# w : write to the file\n",
    "# a : append to the file\n",
    "# rb : read binary file e.g. image.jpg"
   ]
  },
  {
   "cell_type": "code",
   "execution_count": 5,
   "metadata": {},
   "outputs": [
    {
     "data": {
      "text/plain": [
       "'F:/Python Code Snippets - Git/file_handling/test.txt'"
      ]
     },
     "execution_count": 5,
     "metadata": {},
     "output_type": "execute_result"
    }
   ],
   "source": [
    "# get the name of the file\n",
    "f.name"
   ]
  },
  {
   "cell_type": "code",
   "execution_count": 6,
   "metadata": {},
   "outputs": [
    {
     "data": {
      "text/plain": [
       "'r'"
      ]
     },
     "execution_count": 6,
     "metadata": {},
     "output_type": "execute_result"
    }
   ],
   "source": [
    "# get the mode of the file\n",
    "f.mode"
   ]
  },
  {
   "cell_type": "code",
   "execution_count": 7,
   "metadata": {},
   "outputs": [],
   "source": [
    "# if we open the file without using context manager, we have to explicitly close it\n",
    "f.close()"
   ]
  },
  {
   "cell_type": "code",
   "execution_count": 8,
   "metadata": {},
   "outputs": [
    {
     "data": {
      "text/plain": [
       "'r'"
      ]
     },
     "execution_count": 8,
     "metadata": {},
     "output_type": "execute_result"
    }
   ],
   "source": [
    "# using context manager\n",
    "with open(filename, 'r') as f:\n",
    "    # we can work with the file here and as soon as we leave this block, the file is closed\n",
    "    # if any exception is thrown the file is closed\n",
    "    # However we still have access to the variable 'f' outside this block\n",
    "    # but we can read data using 'f'\n",
    "    pass\n",
    "\n",
    "f.mode"
   ]
  },
  {
   "cell_type": "code",
   "execution_count": 22,
   "metadata": {},
   "outputs": [
    {
     "name": "stdout",
     "output_type": "stream",
     "text": [
      "1) This is a test text file\n",
      "2) It has multiple lines and this is the second line\n"
     ]
    }
   ],
   "source": [
    "with open(filename, 'r') as f:\n",
    "    \n",
    "    # read all contents\n",
    "#     all_contents = f.read()\n",
    "#     print(all_contents)\n",
    "    \n",
    "    # readlines as list\n",
    "#     list_lines = f.readlines()\n",
    "#     print(list_lines)\n",
    "\n",
    "    # read one line at a time\n",
    "    line_1 = f.readline()\n",
    "    line_2 = f.readline()\n",
    "    \n",
    "    print(line_1, end=\"\")\n",
    "    print(line_2, end=\"\")"
   ]
  },
  {
   "cell_type": "code",
   "execution_count": 28,
   "metadata": {},
   "outputs": [
    {
     "name": "stdout",
     "output_type": "stream",
     "text": [
      "<class '_io.TextIOWrapper'>\n",
      "\n",
      "1) This is a test text file\n",
      "2) It has multiple lines and this is the second line\n",
      "3) This is the third line\n",
      "4) fourth line\n",
      "5) fifth line"
     ]
    }
   ],
   "source": [
    "# iterate over all the lines\n",
    "with open(filename, 'r') as f:\n",
    "    \n",
    "    # type of f\n",
    "    print(type(f), end='\\n\\n')\n",
    "    \n",
    "    for line in f:\n",
    "        print(line, end='')"
   ]
  },
  {
   "cell_type": "code",
   "execution_count": 29,
   "metadata": {},
   "outputs": [
    {
     "name": "stdout",
     "output_type": "stream",
     "text": [
      "1) This is a test text file\n",
      "2) It has multiple lines and this is the second line\n",
      "3) This is the third line\n",
      "4) fourth line\n",
      "5) fifth line"
     ]
    }
   ],
   "source": [
    "# iterate through the file in chunks\n",
    "\n",
    "with open(filename, 'r') as f:\n",
    "    \n",
    "    char_to_read = 10\n",
    "    chunk = f.read(char_to_read)\n",
    "    \n",
    "    while len(chunk) > 0:\n",
    "        print(chunk, end='')\n",
    "        chunk = f.read(char_to_read)"
   ]
  },
  {
   "cell_type": "code",
   "execution_count": 34,
   "metadata": {},
   "outputs": [
    {
     "name": "stdout",
     "output_type": "stream",
     "text": [
      "1) This is a test te\n",
      "20\n",
      "5\n"
     ]
    }
   ],
   "source": [
    "# to tell where we are in the file : f.tell()\n",
    "\n",
    "with open(filename, 'r') as f:\n",
    "    \n",
    "    test = f.read(20)\n",
    "    print(test)\n",
    "    print(f.tell())\n",
    "    \n",
    "    # to set the pointer to a particular position : f.seek(n)\n",
    "    f.seek(5)\n",
    "    print(f.tell())"
   ]
  },
  {
   "cell_type": "markdown",
   "metadata": {},
   "source": [
    "### Writing to the file"
   ]
  },
  {
   "cell_type": "code",
   "execution_count": 35,
   "metadata": {},
   "outputs": [],
   "source": [
    "# if we try to write to file in read mode, it throws unsupportedOperation error\n",
    "\n",
    "# if mode = w, file will be created if doesn't exist else if exists, file will be overwritten\n",
    "\n",
    "with open('test2.txt', 'w') as f:\n",
    "    f.write('Test')"
   ]
  },
  {
   "cell_type": "markdown",
   "metadata": {},
   "source": [
    "### Copy contents of one file to another"
   ]
  },
  {
   "cell_type": "code",
   "execution_count": 36,
   "metadata": {},
   "outputs": [],
   "source": [
    "with open(filename, 'r') as rf:\n",
    "    with open('test_copy.txt' , 'w') as wf:\n",
    "        for line in rf:\n",
    "            wf.write(line)"
   ]
  },
  {
   "cell_type": "code",
   "execution_count": null,
   "metadata": {},
   "outputs": [],
   "source": []
  }
 ],
 "metadata": {
  "kernelspec": {
   "display_name": "Python 3",
   "language": "python",
   "name": "python3"
  },
  "language_info": {
   "codemirror_mode": {
    "name": "ipython",
    "version": 3
   },
   "file_extension": ".py",
   "mimetype": "text/x-python",
   "name": "python",
   "nbconvert_exporter": "python",
   "pygments_lexer": "ipython3",
   "version": "3.6.5"
  }
 },
 "nbformat": 4,
 "nbformat_minor": 2
}
